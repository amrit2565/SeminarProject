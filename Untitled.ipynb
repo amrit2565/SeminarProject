{
 "cells": [
  {
   "cell_type": "code",
   "execution_count": 2,
   "id": "4ed5dffa",
   "metadata": {},
   "outputs": [
    {
     "name": "stderr",
     "output_type": "stream",
     "text": [
      "C:\\Users\\amrit\\AppData\\Local\\Temp\\ipykernel_7964\\2960408212.py:59: SettingWithCopyWarning: \n",
      "A value is trying to be set on a copy of a slice from a DataFrame.\n",
      "Try using .loc[row_indexer,col_indexer] = value instead\n",
      "\n",
      "See the caveats in the documentation: https://pandas.pydata.org/pandas-docs/stable/user_guide/indexing.html#returning-a-view-versus-a-copy\n",
      "  new_df['tags']= new_df['tags'].apply(lambda x:\" \".join(x)) #Now we shall form a string out of the tags list by joining all the members of list\n",
      "C:\\Users\\amrit\\AppData\\Local\\Temp\\ipykernel_7964\\2960408212.py:60: SettingWithCopyWarning: \n",
      "A value is trying to be set on a copy of a slice from a DataFrame.\n",
      "Try using .loc[row_indexer,col_indexer] = value instead\n",
      "\n",
      "See the caveats in the documentation: https://pandas.pydata.org/pandas-docs/stable/user_guide/indexing.html#returning-a-view-versus-a-copy\n",
      "  new_df['tags']= new_df['tags'].apply(lambda x:x.lower()) #All tags have been converted to lowercase\n",
      "C:\\Users\\amrit\\AppData\\Local\\Temp\\ipykernel_7964\\2960408212.py:70: SettingWithCopyWarning: \n",
      "A value is trying to be set on a copy of a slice from a DataFrame.\n",
      "Try using .loc[row_indexer,col_indexer] = value instead\n",
      "\n",
      "See the caveats in the documentation: https://pandas.pydata.org/pandas-docs/stable/user_guide/indexing.html#returning-a-view-versus-a-copy\n",
      "  new_df['tags']=new_df['tags'].apply(stem)\n",
      "C:\\Users\\amrit\\AppData\\Local\\Programs\\Python\\Python310\\lib\\site-packages\\sklearn\\utils\\deprecation.py:87: FutureWarning: Function get_feature_names is deprecated; get_feature_names is deprecated in 1.0 and will be removed in 1.2. Please use get_feature_names_out instead.\n",
      "  warnings.warn(msg, category=FutureWarning)\n"
     ]
    },
    {
     "name": "stdout",
     "output_type": "stream",
     "text": [
      "Batman\n",
      "Batman & Robin\n",
      "Batman Begins\n",
      "Batman Returns\n",
      "The R.M.\n"
     ]
    }
   ],
   "source": [
    "import numpy as np\n",
    "import pandas as pd\n",
    "import ast\n",
    "movies=pd.read_csv('tmdb_5000_movies.csv') #reading the uploaded movies dataset\n",
    "credits=pd.read_csv('tmdb_5000_credits.csv') #reading the uploaded credits dataset\n",
    "movies=movies.merge(credits,on='title') #Merged the data of movies and credits on the basis of title\n",
    "#We shall keep selective columns for our merged dataset\n",
    "#Rest of the columns would be ignored as of now\n",
    "movies=movies[['movie_id','title','overview','genres','keywords','cast','crew']] #Columns of dataset we shall be working on\n",
    "#movies.head()\n",
    "movies.dropna(inplace=True) #Using this we have removed data which don't have proper overview\n",
    "#Also none of the data is duplicate of any other data\n",
    "\n",
    "def convert(obj):  #This function has been created to get the proper genre keywords in a list and that list shall be used as genre\n",
    "  L=[]\n",
    "  for i in ast.literal_eval(obj):  #ast has been imprted to get list data as list and not as string. The above function was throwing error \n",
    "    L.append(i['name'])\n",
    "  return L\n",
    "\n",
    "movies['genres']=movies['genres'].apply(convert) #Using the above function we shall get proper Genre of each movies\n",
    "#Similar thing shall be applied on Keywords as well\n",
    "movies['keywords']=movies['keywords'].apply(convert)\n",
    "#For cast we shall take in account the leading three casts and rest shall be ignored\n",
    "#Function below has been created for the same\n",
    "def convert3(obj): \n",
    "  L=[]\n",
    "  counter=0\n",
    "  for i in ast.literal_eval(obj):  \n",
    "    if counter!=3:\n",
    "     L.append(i['name'])\n",
    "     counter+=1\n",
    "    else:\n",
    "      break\n",
    "\n",
    "  return L\n",
    "movies['cast']=movies['cast'].apply(convert3)\n",
    "#For movie crew we shall only consider only the job of director and rest shall be ignored\n",
    "#Function below has been created for the same\n",
    "def fetch_director(obj):  \n",
    "  L=[]\n",
    "  for i in ast.literal_eval(obj):   \n",
    "   if i['job']=='Director':\n",
    "    L.append(i['name'])\n",
    "    break\n",
    "  return L\n",
    "movies['crew']=movies['crew'].apply(fetch_director)\n",
    "#We want to convert overview from string to list so that we can concatenate it with other data\n",
    "movies['overview']=movies['overview'].apply(lambda x:x.split()) #Lambda function has been used to split the string to a list\n",
    "movies['genres']=movies['genres'].apply(lambda x:[i.replace(\" \",\"\") for i in x]) #Lambda funcion has been used to remove white spacing in elements of list genres\n",
    "#Similar thing shall be done with all the other lists as well\n",
    "movies['genres']=movies['genres'].apply(lambda x:[i.replace(\" \",\"\") for i in x])\n",
    "movies['keywords']=movies['keywords'].apply(lambda x:[i.replace(\" \",\"\") for i in x])\n",
    "movies['cast']=movies['cast'].apply(lambda x:[i.replace(\" \",\"\") for i in x])\n",
    "movies['crew']=movies['crew'].apply(lambda x:[i.replace(\" \",\"\") for i in x])\n",
    "#A new list named tags shall be created where all lists above like genres, crew, cast, etc shall be concatenated\n",
    "movies['tags']=movies['overview']+movies['genres']+movies['keywords']+movies['cast']+movies['crew']\n",
    "#Now we shall create a new data frame consisting only of movie id, title and tags\n",
    "new_df=movies[['movie_id','title','tags']] #New dataframe has been created\n",
    "new_df['tags']= new_df['tags'].apply(lambda x:\" \".join(x)) #Now we shall form a string out of the tags list by joining all the members of list\n",
    "new_df['tags']= new_df['tags'].apply(lambda x:x.lower()) #All tags have been converted to lowercase\n",
    "\n",
    "import nltk\n",
    "from nltk.stem.porter import PorterStemmer\n",
    "ps=PorterStemmer()\n",
    "def stem(text):\n",
    "  y=[]\n",
    "  for i in text.split():\n",
    "    y.append(ps.stem(i))\n",
    "  return \" \".join(y)\n",
    "new_df['tags']=new_df['tags'].apply(stem)\n",
    "from sklearn.feature_extraction.text import CountVectorizer #Imported CountVectorizer from Sciket learning\n",
    "cv=CountVectorizer(max_features=5000, stop_words='english') ## we have set the size of vector to 5000 and have used stop words to ignore set of words which in this case are english joiners\n",
    "vectors=cv.fit_transform(new_df['tags']).toarray() \n",
    "cv.get_feature_names()\n",
    "from sklearn.metrics.pairwise import cosine_similarity #Importing cosine similarity \n",
    "similarity=cosine_similarity(vectors) #this would tell the similarity of one movie with the other movies if compared to itself the score is one and result varies for other movies \n",
    "def recommend(movie):\n",
    "  movie_index=new_df[new_df['title']==movie].index[0]\n",
    "  distances=similarity[movie_index]\n",
    "  movies_list=sorted(list(enumerate(distances)),reverse=True,key=lambda x:x[1])[1:6]\n",
    "  for i in movies_list:\n",
    "    print(new_df.iloc[i[0]].title)\n",
    "\n",
    "import pickle\n",
    "pickle.dump(new_df,open('movies.pkl','wb'))"
   ]
  },
  {
   "cell_type": "code",
   "execution_count": 3,
   "id": "a051bf2f",
   "metadata": {},
   "outputs": [
    {
     "data": {
      "text/plain": [
       "array(['Avatar', \"Pirates of the Caribbean: At World's End\", 'Spectre',\n",
       "       ..., 'Signed, Sealed, Delivered', 'Shanghai Calling',\n",
       "       'My Date with Drew'], dtype=object)"
      ]
     },
     "execution_count": 3,
     "metadata": {},
     "output_type": "execute_result"
    }
   ],
   "source": [
    "new_df['title'].values\n"
   ]
  },
  {
   "cell_type": "code",
   "execution_count": 5,
   "id": "47b52be7",
   "metadata": {},
   "outputs": [],
   "source": [
    "new_df.to_dict()\n",
    "pickle.dump(new_df.to_dict(),open('movie_dict.pkl','wb'))"
   ]
  },
  {
   "cell_type": "code",
   "execution_count": 6,
   "id": "79b7362e",
   "metadata": {},
   "outputs": [],
   "source": [
    "pickle.dump(similarity,open('similarity.pkl','wb'))"
   ]
  },
  {
   "cell_type": "code",
   "execution_count": 1,
   "id": "f3e0b431",
   "metadata": {},
   "outputs": [
    {
     "ename": "NameError",
     "evalue": "name 'recommend' is not defined",
     "output_type": "error",
     "traceback": [
      "\u001b[1;31m---------------------------------------------------------------------------\u001b[0m",
      "\u001b[1;31mNameError\u001b[0m                                 Traceback (most recent call last)",
      "Input \u001b[1;32mIn [1]\u001b[0m, in \u001b[0;36m<cell line: 1>\u001b[1;34m()\u001b[0m\n\u001b[1;32m----> 1\u001b[0m \u001b[43mrecommend\u001b[49m(\u001b[38;5;124m'\u001b[39m\u001b[38;5;124mAvatar\u001b[39m\u001b[38;5;124m'\u001b[39m)\n",
      "\u001b[1;31mNameError\u001b[0m: name 'recommend' is not defined"
     ]
    }
   ],
   "source": []
  },
  {
   "cell_type": "code",
   "execution_count": null,
   "id": "1111d3ea",
   "metadata": {},
   "outputs": [],
   "source": []
  }
 ],
 "metadata": {
  "kernelspec": {
   "display_name": "Python 3 (ipykernel)",
   "language": "python",
   "name": "python3"
  },
  "language_info": {
   "codemirror_mode": {
    "name": "ipython",
    "version": 3
   },
   "file_extension": ".py",
   "mimetype": "text/x-python",
   "name": "python",
   "nbconvert_exporter": "python",
   "pygments_lexer": "ipython3",
   "version": "3.10.4"
  }
 },
 "nbformat": 4,
 "nbformat_minor": 5
}
